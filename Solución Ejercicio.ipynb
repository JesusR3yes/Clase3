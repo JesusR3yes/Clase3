{
 "cells": [
  {
   "cell_type": "markdown",
   "id": "5b531c4f-fb0d-48c8-b8b1-7a5bfd6f74b4",
   "metadata": {},
   "source": [
    "## Prueba Modelo Ridge con / sin intercepto"
   ]
  },
  {
   "cell_type": "code",
   "execution_count": 1,
   "id": "3657d053-0ae5-4c74-a5b2-ff23e18f5666",
   "metadata": {},
   "outputs": [],
   "source": [
    "parametro = False"
   ]
  },
  {
   "cell_type": "code",
   "execution_count": 2,
   "id": "75036b43-230b-4919-86f7-990de754aa9c",
   "metadata": {},
   "outputs": [],
   "source": [
    "from sklearn.linear_model import Ridge\n",
    "import pandas as pd\n",
    "import numpy.linalg as lg\n",
    "import numpy as np\n",
    "import warnings\n",
    "warnings.filterwarnings(\"ignore\")"
   ]
  },
  {
   "cell_type": "code",
   "execution_count": 3,
   "id": "1d5f8051-809f-4f84-a7a7-61dbf4f7d87d",
   "metadata": {},
   "outputs": [],
   "source": [
    "path = \"C:/Users/Alber/OneDrive/Documentos/USTA 20242/INTELIGENCIA ARTIFICIAL/CORTE 1/SEMANA 2/\""
   ]
  },
  {
   "cell_type": "code",
   "execution_count": 4,
   "id": "b3c8bdba-012f-4b42-ac5c-42e60fdbdf2a",
   "metadata": {},
   "outputs": [],
   "source": [
    "def load_data_python():\n",
    "    dataset = pd.read_csv(path+\"base.csv\",header=0,sep=\";\",decimal=\",\")\n",
    "    prueba = pd.read_csv(path+\"prueba.csv\",header=0,sep=\";\",decimal=\",\")\n",
    "    covariables = [x for x in dataset.columns if x not in [\"y\"]]\n",
    "    X_train, y_train = dataset.get(covariables), dataset.get([\"y\"])\n",
    "    X_test, y_test = prueba.get(covariables), prueba.get([\"y\"])\n",
    "    return X_train, X_test, y_train, y_test"
   ]
  },
  {
   "cell_type": "code",
   "execution_count": 5,
   "id": "e30eaf8d-4418-47d0-ac24-ebeb8901e52d",
   "metadata": {},
   "outputs": [],
   "source": [
    "def model(lambda_par):\n",
    "    X_train, X_test, y_train, y_test = load_data_python()\n",
    "    modelo = Ridge(alpha = lambda_par,fit_intercept=parametro)\n",
    "    modelo.fit(X_train, y_train )\n",
    "    if parametro==True:\n",
    "        r1 = [float(modelo.intercept_)] + [x for x in modelo.coef_[0]]\n",
    "    else:\n",
    "        r1 = modelo.coef_\n",
    "    return r1"
   ]
  },
  {
   "cell_type": "code",
   "execution_count": 6,
   "id": "bda5eddf-836c-4b04-9010-8466989a0b18",
   "metadata": {},
   "outputs": [
    {
     "data": {
      "text/plain": [
       "[0.5197328862342071,\n",
       " 1.2867267294505025,\n",
       " -0.10280247022215629,\n",
       " -101.14044038412786,\n",
       " 698145.5505560889,\n",
       " -1466.4455056699665,\n",
       " 56.07873979389588,\n",
       " -54.880233079763364,\n",
       " 1.1953814039799548,\n",
       " 1.2217046133487257,\n",
       " 1.2446433477325352,\n",
       " 1.276612176148848,\n",
       " 1.3148251777363393,\n",
       " 1.3589140705457885,\n",
       " 1.4208508560401165,\n",
       " 1.4814646728951766,\n",
       " 1.573685125042088,\n",
       " 1.7261092596938448,\n",
       " 1.0257476790372488,\n",
       " 1.850752457665116,\n",
       " 1.0526399395159984,\n",
       " 1.0673038444123986,\n",
       " 1.0871982244268261,\n",
       " 1.1069983170880342,\n",
       " 1.1251563129697328,\n",
       " 1.1500826707343716,\n",
       " 1.165868335889749]"
      ]
     },
     "execution_count": 6,
     "metadata": {},
     "output_type": "execute_result"
    }
   ],
   "source": [
    "cf_funcion = model(lambda_par = 0.5)\n",
    "if parametro==False:\n",
    "    cf_funcion = [x for x in cf_funcion[0]]\n",
    "cf_funcion"
   ]
  },
  {
   "cell_type": "markdown",
   "id": "5de4aa9f-ae92-4e42-9963-a2606d788303",
   "metadata": {},
   "source": [
    "$\\beta_{Ridge} = (X^tX + \\lambda I)^{-1} X^{t} y$"
   ]
  },
  {
   "cell_type": "code",
   "execution_count": 7,
   "id": "44265e2c-7b97-45fd-8a36-043867953010",
   "metadata": {},
   "outputs": [],
   "source": [
    "def coefficientes_pedal(lambda_par):\n",
    "    X_train, X_test, y_train, y_test = load_data_python()\n",
    "    if parametro==True:\n",
    "        covariables = list(X_train.columns)\n",
    "        X_barra = np.mean(X_train,axis = 0)\n",
    "        y_barra = np.mean(y_train,axis = 0)\n",
    "        X_train_c = X_train - X_barra\n",
    "        y_train_c = y_train - y_barra\n",
    "        X_train_c[\"intercepto\"] = 1\n",
    "        X_train_c = X_train_c.get([\"intercepto\"]+covariables)\n",
    "        X_train = X_train_c.to_numpy()\n",
    "        y_train = y_train_c.to_numpy()\n",
    "    else:\n",
    "        X_train = X_train.to_numpy()\n",
    "        y_train = y_train.to_numpy()\n",
    "    p = X_train.shape[1]\n",
    "    Id = np.eye(p)\n",
    "    prod1 = lg.inv(np.matmul(X_train.transpose(),X_train) + lambda_par * Id)\n",
    "    prod2 = np.matmul(X_train.transpose(),y_train)\n",
    "    coef = np.matmul(prod1,prod2)\n",
    "\n",
    "    if parametro==True:\n",
    "        coef[0] = y_barra - np.dot(X_barra, coef[1:])\n",
    "\n",
    "    return coef"
   ]
  },
  {
   "cell_type": "code",
   "execution_count": 8,
   "id": "401cce5a-9a2b-42b2-af95-bf4979b6ee7d",
   "metadata": {},
   "outputs": [
    {
     "data": {
      "text/plain": [
       "[0.5197329615834718,\n",
       " 1.2867266873807601,\n",
       " -0.10280238442092227,\n",
       " -101.1404400341977,\n",
       " 698145.5505760629,\n",
       " -1466.4453417289187,\n",
       " 56.07874645060883,\n",
       " -54.880239749647444,\n",
       " 1.1953814039649626,\n",
       " 1.221704613348447,\n",
       " 1.2446433477182233,\n",
       " 1.276612176116525,\n",
       " 1.3148251777258655,\n",
       " 1.3589140705450207,\n",
       " 1.420850856034087,\n",
       " 1.4814646729102232,\n",
       " 1.573685124976802,\n",
       " 1.7261092595372955,\n",
       " 1.0257476790376663,\n",
       " 1.850752457561065,\n",
       " 1.052639939503905,\n",
       " 1.0673038444136846,\n",
       " 1.087198224411904,\n",
       " 1.1069983170791402,\n",
       " 1.1251563129700366,\n",
       " 1.150082670698998,\n",
       " 1.1658683358704591]"
      ]
     },
     "execution_count": 8,
     "metadata": {},
     "output_type": "execute_result"
    }
   ],
   "source": [
    "cf_pedal = coefficientes_pedal(lambda_par = 0.5)\n",
    "cf_pedal = cf_pedal.transpose()\n",
    "cf_pedal = [x for x in cf_pedal[0]]\n",
    "cf_pedal"
   ]
  },
  {
   "cell_type": "code",
   "execution_count": 9,
   "id": "a63080d1-e15b-4168-bf6f-657009bb47bf",
   "metadata": {},
   "outputs": [
    {
     "name": "stdout",
     "output_type": "stream",
     "text": [
      "True\n",
      "True\n",
      "True\n",
      "True\n",
      "True\n",
      "True\n",
      "True\n",
      "True\n",
      "True\n",
      "True\n",
      "True\n",
      "True\n",
      "True\n",
      "True\n",
      "True\n",
      "True\n",
      "True\n",
      "True\n",
      "True\n",
      "True\n",
      "True\n",
      "True\n",
      "True\n",
      "True\n",
      "True\n",
      "True\n",
      "True\n"
     ]
    }
   ],
   "source": [
    "for i,j in zip(cf_funcion,cf_pedal):\n",
    "    print(np.round(i,2)==np.round(j,2))"
   ]
  },
  {
   "cell_type": "markdown",
   "id": "c93d9a07-62f1-464b-a592-7c2f76926304",
   "metadata": {},
   "source": [
    "## Prueba performance del modelo"
   ]
  },
  {
   "cell_type": "code",
   "execution_count": 57,
   "id": "e9a54ce6-5305-4343-847a-2c76a9a1824c",
   "metadata": {},
   "outputs": [],
   "source": [
    "Train_Data = False"
   ]
  },
  {
   "cell_type": "code",
   "execution_count": 58,
   "id": "b80c45a1-71a5-48d4-8df6-95c8fc5c1e60",
   "metadata": {},
   "outputs": [],
   "source": [
    "def umbral(ytrue,yhat,u = 0.07):\n",
    "    return 100 * np.mean(np.abs((ytrue-yhat)/ytrue)<=u)"
   ]
  },
  {
   "cell_type": "code",
   "execution_count": 59,
   "id": "9856690c-eff4-4831-9dbb-6f31ab5d2d21",
   "metadata": {},
   "outputs": [],
   "source": [
    "def model_predictions(lambda_par,parametro):\n",
    "    X_train, X_test, y_train, y_test = load_data_python()\n",
    "    if parametro==True:\n",
    "        modelo = Ridge(alpha = lambda_par,fit_intercept=False)\n",
    "        modelo.fit(X_train,y_train)\n",
    "        modelo2 = Ridge(alpha = lambda_par,fit_intercept=True)\n",
    "        modelo2.fit(X_train,y_train)\n",
    "        yhat_train1 = modelo.predict(X_train)\n",
    "        yhat_test1 = modelo.predict(X_test)\n",
    "        yhat_train2 = modelo2.predict(X_train)\n",
    "        yhat_test2 = modelo2.predict(X_test)\n",
    "    else:\n",
    "        modelo = Ridge(alpha = lambda_par,fit_intercept=False)\n",
    "        modelo.fit(X_test,y_test)\n",
    "        modelo2 = Ridge(alpha = lambda_par,fit_intercept=True)\n",
    "        modelo2.fit(X_test,y_test)\n",
    "        yhat_train1 = modelo.predict(X_test)\n",
    "        yhat_test1 = modelo.predict(X_train)\n",
    "        yhat_train2 = modelo2.predict(X_test)\n",
    "        yhat_test2 = modelo2.predict(X_train)\n",
    "    return yhat_train1, yhat_test1, yhat_train2, yhat_test2"
   ]
  },
  {
   "cell_type": "code",
   "execution_count": 60,
   "id": "91bf4535-2887-4f1f-befd-793b90af7908",
   "metadata": {},
   "outputs": [],
   "source": [
    "yhat_train1, yhat_test1, yhat_train2, yhat_test2 = model_predictions(0.5,parametro=Train_Data)\n",
    "X_train, X_test, y_train, y_test = load_data_python()"
   ]
  },
  {
   "cell_type": "code",
   "execution_count": 61,
   "id": "d9585989-b340-4e50-971d-3f12892c3e34",
   "metadata": {},
   "outputs": [],
   "source": [
    "if Train_Data==True:\n",
    "    a = umbral(y_test,yhat_test1)>umbral(y_test,yhat_test2)\n",
    "else:\n",
    "    a = umbral(y_train,yhat_test1)>umbral(y_train,yhat_test2)\n",
    "\n",
    "if a==True:\n",
    "    b = f\"El mejor modelo es sin intercepto\"\n",
    "else:\n",
    "    b = f\"El mejor modelo es con intercepto\""
   ]
  },
  {
   "cell_type": "code",
   "execution_count": 62,
   "id": "c44e9c49-5e6c-4f83-a11a-291fd98c1cc4",
   "metadata": {},
   "outputs": [],
   "source": [
    "if (Train_Data==True) & (a==True):\n",
    "    u1 = umbral(y_train,yhat_train1) \n",
    "    u2 = umbral(y_test,yhat_test1) \n",
    "elif (Train_Data==True) & (a==False):\n",
    "    u1 = umbral(y_train,yhat_train2) \n",
    "    u2 = umbral(y_test,yhat_test2) \n",
    "elif (Train_Data==False) & (a==False):\n",
    "    u1 = umbral(y_test,yhat_train2)\n",
    "    u2 = umbral(y_train,yhat_test2)\n",
    "else:\n",
    "    u1 = umbral(y_test,yhat_train1)\n",
    "    u2 = umbral(y_train,yhat_test1)"
   ]
  },
  {
   "cell_type": "markdown",
   "id": "74d7b17f-14b9-4e42-b44a-505fb194ef5a",
   "metadata": {},
   "source": [
    "## No hay underfitting\n",
    "Si más del 80% de la información está bien predicha"
   ]
  },
  {
   "cell_type": "markdown",
   "id": "e4d3b000-edf8-4f57-b08e-bdb7fd229e67",
   "metadata": {},
   "source": [
    "## No hay overfitting\n",
    "Si no hay más de 5 puntos de diferencia entre error de entrenamiento y test"
   ]
  },
  {
   "cell_type": "code",
   "execution_count": 63,
   "id": "ebb84eea-e3e5-4516-a502-2e3a966ffe25",
   "metadata": {},
   "outputs": [
    {
     "name": "stdout",
     "output_type": "stream",
     "text": [
      "True\n",
      "True\n",
      "True\n"
     ]
    }
   ],
   "source": [
    "valores = [u1,u2,-np.abs(u1-u2)]\n",
    "comparacion = [80,80,-5]\n",
    "for i,j in zip(valores,comparacion):\n",
    "    print(i>=j)"
   ]
  },
  {
   "cell_type": "code",
   "execution_count": 64,
   "id": "29eab0f1-34c4-43cb-aa0c-679bf6d49000",
   "metadata": {},
   "outputs": [
    {
     "name": "stdout",
     "output_type": "stream",
     "text": [
      "El mejor modelo es con intercepto\n"
     ]
    }
   ],
   "source": [
    "print(b)"
   ]
  },
  {
   "cell_type": "code",
   "execution_count": null,
   "id": "75ceadc1-f6d8-44aa-a18d-1ef7825705f0",
   "metadata": {},
   "outputs": [],
   "source": []
  }
 ],
 "metadata": {
  "kernelspec": {
   "display_name": "Python 3 (ipykernel)",
   "language": "python",
   "name": "python3"
  },
  "language_info": {
   "codemirror_mode": {
    "name": "ipython",
    "version": 3
   },
   "file_extension": ".py",
   "mimetype": "text/x-python",
   "name": "python",
   "nbconvert_exporter": "python",
   "pygments_lexer": "ipython3",
   "version": "3.10.11"
  }
 },
 "nbformat": 4,
 "nbformat_minor": 5
}
